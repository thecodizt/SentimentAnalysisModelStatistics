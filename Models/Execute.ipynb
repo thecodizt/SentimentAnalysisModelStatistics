{
 "cells": [
  {
   "cell_type": "markdown",
   "metadata": {},
   "source": [
    "# Execution and Storing of Results"
   ]
  },
  {
   "cell_type": "code",
   "execution_count": null,
   "metadata": {},
   "outputs": [],
   "source": [
    "import pandas as pd"
   ]
  },
  {
   "cell_type": "code",
   "execution_count": null,
   "metadata": {},
   "outputs": [],
   "source": [
    "import warnings \n",
    "warnings.filterwarnings('ignore')"
   ]
  },
  {
   "cell_type": "code",
   "execution_count": null,
   "metadata": {},
   "outputs": [],
   "source": [
    "from models import runNaiveBayes, runSVM, runHMM, runGradientBoosting, runRandomForest,runLogisticRegression, runDecisionTree, runKNN, runXGBoost, runAdaBoost"
   ]
  },
  {
   "cell_type": "code",
   "execution_count": null,
   "metadata": {},
   "outputs": [],
   "source": [
    "def runner(data, name):\n",
    "    \n",
    "    data.dropna(inplace=True)\n",
    "    \n",
    "    data.drop(columns=[\"Unnamed: 0\"], inplace=True)\n",
    "\n",
    "\n",
    "    print(\"Running Naive Bayes...\")\n",
    "    runNaiveBayes(data, name)\n",
    "    print(\"Done with Naive Bayes!\")\n",
    "    \n",
    "    print(\"Running SVM...\")\n",
    "    runSVM(data, name)\n",
    "    print(\"Done with SVM!\")\n",
    "\n",
    "    print(\"Running KNN...\")\n",
    "    runKNN(data, name)\n",
    "    print(\"Done with KNN!\")\n",
    "\n",
    "    # print(\"Running HMM...\")\n",
    "    # runHMM(data, name)\n",
    "    # print(\"Done with HMM!\")\n",
    "    \n",
    "    print(\"Running Logistic Regression...\")\n",
    "    runLogisticRegression(data, name)\n",
    "    print(\"Done with Logistic Regression!\")\n",
    "    \n",
    "    print(\"Running Decision Tree...\")\n",
    "    runDecisionTree(data, name)\n",
    "    print(\"Done with Decision Tree!\")\n",
    "\n",
    "    print(\"Running Random Forest...\")\n",
    "    runRandomForest(data, name)\n",
    "    print(\"Done with Random Forest!\")\n",
    "\n",
    "    print(\"Running Gradient Boosting...\")\n",
    "    runGradientBoosting(data, name)\n",
    "    print(\"Done with Gradient Boosting!\")\n",
    "    \n",
    "    print(\"Running XGBoost...\")\n",
    "    runXGBoost(data, name)\n",
    "    print(\"Done with XGBoost!\")\n",
    "\n",
    "    print(\"Running AdaBoost...\")\n",
    "    runAdaBoost(data, name)\n",
    "    print(\"Done with AdaBoost!\")\n"
   ]
  },
  {
   "cell_type": "markdown",
   "metadata": {},
   "source": [
    "### Cornell Movie Review Dataset"
   ]
  },
  {
   "cell_type": "code",
   "execution_count": null,
   "metadata": {},
   "outputs": [],
   "source": [
    "dataset = \"Cornell Movie Review Dataset\""
   ]
  },
  {
   "cell_type": "code",
   "execution_count": null,
   "metadata": {},
   "outputs": [],
   "source": [
    "data = pd.read_csv(f'../Datasets/Preprocessed/{dataset}/data.csv')"
   ]
  },
  {
   "cell_type": "code",
   "execution_count": null,
   "metadata": {},
   "outputs": [],
   "source": [
    "runner(data, dataset)"
   ]
  },
  {
   "cell_type": "markdown",
   "metadata": {},
   "source": [
    "### Hate Speech and Offensive Language Dataset"
   ]
  },
  {
   "cell_type": "code",
   "execution_count": null,
   "metadata": {},
   "outputs": [],
   "source": [
    "dataset = \"Hate Speech and Offensive Language Dataset\""
   ]
  },
  {
   "cell_type": "code",
   "execution_count": null,
   "metadata": {},
   "outputs": [],
   "source": [
    "data = pd.read_csv(f'../Datasets/Preprocessed/{dataset}/data.csv')"
   ]
  },
  {
   "cell_type": "code",
   "execution_count": null,
   "metadata": {},
   "outputs": [],
   "source": [
    "runner(data, dataset)"
   ]
  },
  {
   "cell_type": "markdown",
   "metadata": {},
   "source": [
    "### Twitter US Airline Sentiment dataset"
   ]
  },
  {
   "cell_type": "code",
   "execution_count": null,
   "metadata": {},
   "outputs": [],
   "source": [
    "dataset = \"Twitter US Airline Sentiment dataset\""
   ]
  },
  {
   "cell_type": "code",
   "execution_count": null,
   "metadata": {},
   "outputs": [],
   "source": [
    "data = pd.read_csv(f'../Datasets/Preprocessed/{dataset}/data.csv')"
   ]
  },
  {
   "cell_type": "code",
   "execution_count": null,
   "metadata": {},
   "outputs": [],
   "source": [
    "runner(data, dataset)"
   ]
  },
  {
   "cell_type": "markdown",
   "metadata": {},
   "source": [
    "### UTKML Twitter Spam Detection Competition Dataset"
   ]
  },
  {
   "cell_type": "code",
   "execution_count": null,
   "metadata": {},
   "outputs": [],
   "source": [
    "dataset = \"UTKML Twitter Spam Detection Competition Dataset\""
   ]
  },
  {
   "cell_type": "code",
   "execution_count": null,
   "metadata": {},
   "outputs": [],
   "source": [
    "data = pd.read_csv(f'../Datasets/Preprocessed/{dataset}/data.csv')"
   ]
  },
  {
   "cell_type": "code",
   "execution_count": null,
   "metadata": {},
   "outputs": [],
   "source": [
    "runner(data, dataset)"
   ]
  },
  {
   "cell_type": "markdown",
   "metadata": {},
   "source": [
    "### Sentiment 140"
   ]
  },
  {
   "cell_type": "code",
   "execution_count": null,
   "metadata": {},
   "outputs": [],
   "source": [
    "dataset = \"Sentiment140\""
   ]
  },
  {
   "cell_type": "code",
   "execution_count": null,
   "metadata": {},
   "outputs": [],
   "source": [
    "data = pd.read_csv(f'../Datasets/Preprocessed/{dataset}/data.csv')"
   ]
  },
  {
   "cell_type": "code",
   "execution_count": null,
   "metadata": {},
   "outputs": [],
   "source": [
    "runner(data, dataset)"
   ]
  }
 ],
 "metadata": {
  "kernelspec": {
   "display_name": "base",
   "language": "python",
   "name": "python3"
  },
  "language_info": {
   "codemirror_mode": {
    "name": "ipython",
    "version": 3
   },
   "file_extension": ".py",
   "mimetype": "text/x-python",
   "name": "python",
   "nbconvert_exporter": "python",
   "pygments_lexer": "ipython3",
   "version": "3.9.13"
  },
  "orig_nbformat": 4
 },
 "nbformat": 4,
 "nbformat_minor": 2
}
